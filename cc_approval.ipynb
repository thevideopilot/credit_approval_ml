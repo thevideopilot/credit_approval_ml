{
 "metadata": {
  "language_info": {
   "codemirror_mode": {
    "name": "ipython",
    "version": 3
   },
   "file_extension": ".py",
   "mimetype": "text/x-python",
   "name": "python",
   "nbconvert_exporter": "python",
   "pygments_lexer": "ipython3",
   "version": "3.7.2-final"
  },
  "orig_nbformat": 2,
  "kernelspec": {
   "name": "python3",
   "display_name": "Python 3"
  }
 },
 "nbformat": 4,
 "nbformat_minor": 2,
 "cells": [
  {
   "source": [
    "## Credit Approval Application.\n",
    "\n",
    "Banks give loans to applicants.....\n",
    "\n",
    "\n",
    "Plans and process\n",
    "- Load dataset and view \n",
    "- analyse the column types and values (numerical or non numberical)\n",
    "- Preprocess the dataset to ensure the ML model we choose can make good predictions\n",
    "- Do some data analysis to build our instuition\n",
    "- Build a machine learning model that cna predict if an individuals Credit Application will be approved or not "
   ],
   "cell_type": "markdown",
   "metadata": {}
  },
  {
   "cell_type": "code",
   "execution_count": 2,
   "metadata": {},
   "outputs": [],
   "source": [
    "import pandas as pd\n",
    "import numpy as np\n",
    "import matplotlib as plt \n",
    "\n"
   ]
  },
  {
   "cell_type": "code",
   "execution_count": 3,
   "metadata": {},
   "outputs": [],
   "source": [
    "cc_apps = pd.read_csv(\"D:/A work/DS/Credit_card_approval/Data-Science-Credit-Card-Approvals-Quant/datasets/cc_approvals.data\", header= None)"
   ]
  },
  {
   "source": [
    "### 1. Inspecting the data"
   ],
   "cell_type": "markdown",
   "metadata": {}
  },
  {
   "cell_type": "code",
   "execution_count": 4,
   "metadata": {},
   "outputs": [
    {
     "output_type": "execute_result",
     "data": {
      "text/plain": [
       "  0      1      2  3  4  5  6     7  8  9   10 11 12     13   14 15\n",
       "0  b  30.83  0.000  u  g  w  v  1.25  t  t   1  f  g  00202    0  +\n",
       "1  a  58.67  4.460  u  g  q  h  3.04  t  t   6  f  g  00043  560  +\n",
       "2  a  24.50  0.500  u  g  q  h  1.50  t  f   0  f  g  00280  824  +\n",
       "3  b  27.83  1.540  u  g  w  v  3.75  t  t   5  t  g  00100    3  +\n",
       "4  b  20.17  5.625  u  g  w  v  1.71  t  f   0  f  s  00120    0  +"
      ],
      "text/html": "<div>\n<style scoped>\n    .dataframe tbody tr th:only-of-type {\n        vertical-align: middle;\n    }\n\n    .dataframe tbody tr th {\n        vertical-align: top;\n    }\n\n    .dataframe thead th {\n        text-align: right;\n    }\n</style>\n<table border=\"1\" class=\"dataframe\">\n  <thead>\n    <tr style=\"text-align: right;\">\n      <th></th>\n      <th>0</th>\n      <th>1</th>\n      <th>2</th>\n      <th>3</th>\n      <th>4</th>\n      <th>5</th>\n      <th>6</th>\n      <th>7</th>\n      <th>8</th>\n      <th>9</th>\n      <th>10</th>\n      <th>11</th>\n      <th>12</th>\n      <th>13</th>\n      <th>14</th>\n      <th>15</th>\n    </tr>\n  </thead>\n  <tbody>\n    <tr>\n      <th>0</th>\n      <td>b</td>\n      <td>30.83</td>\n      <td>0.000</td>\n      <td>u</td>\n      <td>g</td>\n      <td>w</td>\n      <td>v</td>\n      <td>1.25</td>\n      <td>t</td>\n      <td>t</td>\n      <td>1</td>\n      <td>f</td>\n      <td>g</td>\n      <td>00202</td>\n      <td>0</td>\n      <td>+</td>\n    </tr>\n    <tr>\n      <th>1</th>\n      <td>a</td>\n      <td>58.67</td>\n      <td>4.460</td>\n      <td>u</td>\n      <td>g</td>\n      <td>q</td>\n      <td>h</td>\n      <td>3.04</td>\n      <td>t</td>\n      <td>t</td>\n      <td>6</td>\n      <td>f</td>\n      <td>g</td>\n      <td>00043</td>\n      <td>560</td>\n      <td>+</td>\n    </tr>\n    <tr>\n      <th>2</th>\n      <td>a</td>\n      <td>24.50</td>\n      <td>0.500</td>\n      <td>u</td>\n      <td>g</td>\n      <td>q</td>\n      <td>h</td>\n      <td>1.50</td>\n      <td>t</td>\n      <td>f</td>\n      <td>0</td>\n      <td>f</td>\n      <td>g</td>\n      <td>00280</td>\n      <td>824</td>\n      <td>+</td>\n    </tr>\n    <tr>\n      <th>3</th>\n      <td>b</td>\n      <td>27.83</td>\n      <td>1.540</td>\n      <td>u</td>\n      <td>g</td>\n      <td>w</td>\n      <td>v</td>\n      <td>3.75</td>\n      <td>t</td>\n      <td>t</td>\n      <td>5</td>\n      <td>t</td>\n      <td>g</td>\n      <td>00100</td>\n      <td>3</td>\n      <td>+</td>\n    </tr>\n    <tr>\n      <th>4</th>\n      <td>b</td>\n      <td>20.17</td>\n      <td>5.625</td>\n      <td>u</td>\n      <td>g</td>\n      <td>w</td>\n      <td>v</td>\n      <td>1.71</td>\n      <td>t</td>\n      <td>f</td>\n      <td>0</td>\n      <td>f</td>\n      <td>s</td>\n      <td>00120</td>\n      <td>0</td>\n      <td>+</td>\n    </tr>\n  </tbody>\n</table>\n</div>"
     },
     "metadata": {},
     "execution_count": 4
    }
   ],
   "source": [
    "cc_apps.head()"
   ]
  },
  {
   "cell_type": "code",
   "execution_count": 5,
   "metadata": {},
   "outputs": [
    {
     "output_type": "execute_result",
     "data": {
      "text/plain": [
       "Int64Index([0, 1, 2, 3, 4, 5, 6, 7, 8, 9, 10, 11, 12, 13, 14, 15], dtype='int64')"
      ]
     },
     "metadata": {},
     "execution_count": 5
    }
   ],
   "source": [
    "cc_apps.columns"
   ]
  },
  {
   "source": [
    "The data has been anonymized to protect the privacy but this post here (http://rstudio-pubs-static.s3.amazonaws.com/73039_9946de135c0a49daa7a0a9eda4a67a72.html) explains the data. From the post we se that we have the following columns:\n",
    "- Gender, Age, Debt, Married, BankCustomer, EducationLevel, Ethnicity, YearsEmployed, PriorDefault, Employed, CreditScore, DriversLicense, Citizen, ZipCode, Income and finally the ApprovalStatus\n",
    "\n"
   ],
   "cell_type": "markdown",
   "metadata": {}
  },
  {
   "cell_type": "code",
   "execution_count": 6,
   "metadata": {},
   "outputs": [
    {
     "output_type": "stream",
     "name": "stdout",
     "text": [
      "               2           7          10             14\ncount  690.000000  690.000000  690.00000     690.000000\nmean     4.758725    2.223406    2.40000    1017.385507\nstd      4.978163    3.346513    4.86294    5210.102598\nmin      0.000000    0.000000    0.00000       0.000000\n25%      1.000000    0.165000    0.00000       0.000000\n50%      2.750000    1.000000    0.00000       5.000000\n75%      7.207500    2.625000    3.00000     395.500000\nmax     28.000000   28.500000   67.00000  100000.000000\n\n\n<class 'pandas.core.frame.DataFrame'>\nRangeIndex: 690 entries, 0 to 689\nData columns (total 16 columns):\n0     690 non-null object\n1     690 non-null object\n2     690 non-null float64\n3     690 non-null object\n4     690 non-null object\n5     690 non-null object\n6     690 non-null object\n7     690 non-null float64\n8     690 non-null object\n9     690 non-null object\n10    690 non-null int64\n11    690 non-null object\n12    690 non-null object\n13    690 non-null object\n14    690 non-null int64\n15    690 non-null object\ndtypes: float64(2), int64(2), object(12)\nmemory usage: 86.3+ KB\nNone\n"
     ]
    }
   ],
   "source": [
    "cc_apps_description = cc_apps.describe()\n",
    "print(cc_apps_description)\n",
    "\n",
    "print(\"\\n\")\n",
    "\n",
    "cc_apps_info = cc_apps.info()\n",
    "print(cc_apps_info)\n"
   ]
  },
  {
   "cell_type": "code",
   "execution_count": 7,
   "metadata": {},
   "outputs": [
    {
     "output_type": "execute_result",
     "data": {
      "text/plain": [
       "  gender    age   debt married bankCustomer educationalLevel ethinicy  \\\n",
       "0      b  30.83  0.000       u            g                w        v   \n",
       "1      a  58.67  4.460       u            g                q        h   \n",
       "2      a  24.50  0.500       u            g                q        h   \n",
       "3      b  27.83  1.540       u            g                w        v   \n",
       "4      b  20.17  5.625       u            g                w        v   \n",
       "\n",
       "   yearsEmployed priorDefault employed  creditScore driversLicense citizen  \\\n",
       "0           1.25            t        t            1              f       g   \n",
       "1           3.04            t        t            6              f       g   \n",
       "2           1.50            t        f            0              f       g   \n",
       "3           3.75            t        t            5              t       g   \n",
       "4           1.71            t        f            0              f       s   \n",
       "\n",
       "  zipCode  income approved  \n",
       "0   00202       0        +  \n",
       "1   00043     560        +  \n",
       "2   00280     824        +  \n",
       "3   00100       3        +  \n",
       "4   00120       0        +  "
      ],
      "text/html": "<div>\n<style scoped>\n    .dataframe tbody tr th:only-of-type {\n        vertical-align: middle;\n    }\n\n    .dataframe tbody tr th {\n        vertical-align: top;\n    }\n\n    .dataframe thead th {\n        text-align: right;\n    }\n</style>\n<table border=\"1\" class=\"dataframe\">\n  <thead>\n    <tr style=\"text-align: right;\">\n      <th></th>\n      <th>gender</th>\n      <th>age</th>\n      <th>debt</th>\n      <th>married</th>\n      <th>bankCustomer</th>\n      <th>educationalLevel</th>\n      <th>ethinicy</th>\n      <th>yearsEmployed</th>\n      <th>priorDefault</th>\n      <th>employed</th>\n      <th>creditScore</th>\n      <th>driversLicense</th>\n      <th>citizen</th>\n      <th>zipCode</th>\n      <th>income</th>\n      <th>approved</th>\n    </tr>\n  </thead>\n  <tbody>\n    <tr>\n      <th>0</th>\n      <td>b</td>\n      <td>30.83</td>\n      <td>0.000</td>\n      <td>u</td>\n      <td>g</td>\n      <td>w</td>\n      <td>v</td>\n      <td>1.25</td>\n      <td>t</td>\n      <td>t</td>\n      <td>1</td>\n      <td>f</td>\n      <td>g</td>\n      <td>00202</td>\n      <td>0</td>\n      <td>+</td>\n    </tr>\n    <tr>\n      <th>1</th>\n      <td>a</td>\n      <td>58.67</td>\n      <td>4.460</td>\n      <td>u</td>\n      <td>g</td>\n      <td>q</td>\n      <td>h</td>\n      <td>3.04</td>\n      <td>t</td>\n      <td>t</td>\n      <td>6</td>\n      <td>f</td>\n      <td>g</td>\n      <td>00043</td>\n      <td>560</td>\n      <td>+</td>\n    </tr>\n    <tr>\n      <th>2</th>\n      <td>a</td>\n      <td>24.50</td>\n      <td>0.500</td>\n      <td>u</td>\n      <td>g</td>\n      <td>q</td>\n      <td>h</td>\n      <td>1.50</td>\n      <td>t</td>\n      <td>f</td>\n      <td>0</td>\n      <td>f</td>\n      <td>g</td>\n      <td>00280</td>\n      <td>824</td>\n      <td>+</td>\n    </tr>\n    <tr>\n      <th>3</th>\n      <td>b</td>\n      <td>27.83</td>\n      <td>1.540</td>\n      <td>u</td>\n      <td>g</td>\n      <td>w</td>\n      <td>v</td>\n      <td>3.75</td>\n      <td>t</td>\n      <td>t</td>\n      <td>5</td>\n      <td>t</td>\n      <td>g</td>\n      <td>00100</td>\n      <td>3</td>\n      <td>+</td>\n    </tr>\n    <tr>\n      <th>4</th>\n      <td>b</td>\n      <td>20.17</td>\n      <td>5.625</td>\n      <td>u</td>\n      <td>g</td>\n      <td>w</td>\n      <td>v</td>\n      <td>1.71</td>\n      <td>t</td>\n      <td>f</td>\n      <td>0</td>\n      <td>f</td>\n      <td>s</td>\n      <td>00120</td>\n      <td>0</td>\n      <td>+</td>\n    </tr>\n  </tbody>\n</table>\n</div>"
     },
     "metadata": {},
     "execution_count": 7
    }
   ],
   "source": [
    "# Renaming the columns to make the process readable \n",
    "cc_apps_copy = cc_apps.copy()\n",
    "\n",
    "cc_apps_copy.columns = [\n",
    "    'gender','age','debt','married','bankCustomer','educationalLevel','ethinicy','yearsEmployed','priorDefault','employed','creditScore','driversLicense','citizen','zipCode','income','approved']\n",
    "\n",
    "cc_apps_copy.head()"
   ]
  },
  {
   "cell_type": "code",
   "execution_count": 8,
   "metadata": {},
   "outputs": [
    {
     "output_type": "execute_result",
     "data": {
      "text/plain": [
       "array(['g', 'p', '?', 'gg'], dtype=object)"
      ]
     },
     "metadata": {},
     "execution_count": 8
    }
   ],
   "source": [
    "cc_apps_copy['bankCustomer'].unique()"
   ]
  },
  {
   "cell_type": "code",
   "execution_count": 9,
   "metadata": {},
   "outputs": [
    {
     "output_type": "execute_result",
     "data": {
      "text/plain": [
       "array(['g', 'p', '?', 'gg'], dtype=object)"
      ]
     },
     "metadata": {},
     "execution_count": 9
    }
   ],
   "source": [
    "cc_apps[4].unique()"
   ]
  },
  {
   "source": [
    "### 2. Handling missing values\n",
    "\n",
    "- The dataset contains both numeric and non-numeric data (specifically data that are of float64, int64 and object types). Specifically, the features debt, yearsEmployed, creditScore and income contain numeric values (of types float64, float64, int64 and int64 respectively) and all the other features contain non-numeric values.\n",
    "- The dataset also contains values from several ranges. Some features have a value range of 0 - 28, some have a range of 2 - 67, and some have a range of 1017 - 100000. Apart from these, we can get useful statistical information (like mean, max, and min) about the features that have numerical values.\n",
    "- Finally, the dataset has missing values. The missing values in the dataset are labeled with '?'\n",
    "\n"
   ],
   "cell_type": "markdown",
   "metadata": {}
  },
  {
   "cell_type": "code",
   "execution_count": 10,
   "metadata": {},
   "outputs": [
    {
     "output_type": "execute_result",
     "data": {
      "text/plain": [
       "    gender    age    debt married bankCustomer educationalLevel ethinicy  \\\n",
       "680      b  19.50   0.290       u            g                k        v   \n",
       "681      b  27.83   1.000       y            p                d        h   \n",
       "682      b  17.08   3.290       u            g                i        v   \n",
       "683      b  36.42   0.750       y            p                d        v   \n",
       "684      b  40.58   3.290       u            g                m        v   \n",
       "685      b  21.08  10.085       y            p                e        h   \n",
       "686      a  22.67   0.750       u            g                c        v   \n",
       "687      a  25.25  13.500       y            p               ff       ff   \n",
       "688      b  17.92   0.205       u            g               aa        v   \n",
       "689      b  35.00   3.375       u            g                c        h   \n",
       "\n",
       "     yearsEmployed priorDefault employed  creditScore driversLicense citizen  \\\n",
       "680          0.290            f        f            0              f       g   \n",
       "681          3.000            f        f            0              f       g   \n",
       "682          0.335            f        f            0              t       g   \n",
       "683          0.585            f        f            0              f       g   \n",
       "684          3.500            f        f            0              t       s   \n",
       "685          1.250            f        f            0              f       g   \n",
       "686          2.000            f        t            2              t       g   \n",
       "687          2.000            f        t            1              t       g   \n",
       "688          0.040            f        f            0              f       g   \n",
       "689          8.290            f        f            0              t       g   \n",
       "\n",
       "    zipCode  income approved  \n",
       "680   00280     364        -  \n",
       "681   00176     537        -  \n",
       "682   00140       2        -  \n",
       "683   00240       3        -  \n",
       "684   00400       0        -  \n",
       "685   00260       0        -  \n",
       "686   00200     394        -  \n",
       "687   00200       1        -  \n",
       "688   00280     750        -  \n",
       "689   00000       0        -  "
      ],
      "text/html": "<div>\n<style scoped>\n    .dataframe tbody tr th:only-of-type {\n        vertical-align: middle;\n    }\n\n    .dataframe tbody tr th {\n        vertical-align: top;\n    }\n\n    .dataframe thead th {\n        text-align: right;\n    }\n</style>\n<table border=\"1\" class=\"dataframe\">\n  <thead>\n    <tr style=\"text-align: right;\">\n      <th></th>\n      <th>gender</th>\n      <th>age</th>\n      <th>debt</th>\n      <th>married</th>\n      <th>bankCustomer</th>\n      <th>educationalLevel</th>\n      <th>ethinicy</th>\n      <th>yearsEmployed</th>\n      <th>priorDefault</th>\n      <th>employed</th>\n      <th>creditScore</th>\n      <th>driversLicense</th>\n      <th>citizen</th>\n      <th>zipCode</th>\n      <th>income</th>\n      <th>approved</th>\n    </tr>\n  </thead>\n  <tbody>\n    <tr>\n      <th>680</th>\n      <td>b</td>\n      <td>19.50</td>\n      <td>0.290</td>\n      <td>u</td>\n      <td>g</td>\n      <td>k</td>\n      <td>v</td>\n      <td>0.290</td>\n      <td>f</td>\n      <td>f</td>\n      <td>0</td>\n      <td>f</td>\n      <td>g</td>\n      <td>00280</td>\n      <td>364</td>\n      <td>-</td>\n    </tr>\n    <tr>\n      <th>681</th>\n      <td>b</td>\n      <td>27.83</td>\n      <td>1.000</td>\n      <td>y</td>\n      <td>p</td>\n      <td>d</td>\n      <td>h</td>\n      <td>3.000</td>\n      <td>f</td>\n      <td>f</td>\n      <td>0</td>\n      <td>f</td>\n      <td>g</td>\n      <td>00176</td>\n      <td>537</td>\n      <td>-</td>\n    </tr>\n    <tr>\n      <th>682</th>\n      <td>b</td>\n      <td>17.08</td>\n      <td>3.290</td>\n      <td>u</td>\n      <td>g</td>\n      <td>i</td>\n      <td>v</td>\n      <td>0.335</td>\n      <td>f</td>\n      <td>f</td>\n      <td>0</td>\n      <td>t</td>\n      <td>g</td>\n      <td>00140</td>\n      <td>2</td>\n      <td>-</td>\n    </tr>\n    <tr>\n      <th>683</th>\n      <td>b</td>\n      <td>36.42</td>\n      <td>0.750</td>\n      <td>y</td>\n      <td>p</td>\n      <td>d</td>\n      <td>v</td>\n      <td>0.585</td>\n      <td>f</td>\n      <td>f</td>\n      <td>0</td>\n      <td>f</td>\n      <td>g</td>\n      <td>00240</td>\n      <td>3</td>\n      <td>-</td>\n    </tr>\n    <tr>\n      <th>684</th>\n      <td>b</td>\n      <td>40.58</td>\n      <td>3.290</td>\n      <td>u</td>\n      <td>g</td>\n      <td>m</td>\n      <td>v</td>\n      <td>3.500</td>\n      <td>f</td>\n      <td>f</td>\n      <td>0</td>\n      <td>t</td>\n      <td>s</td>\n      <td>00400</td>\n      <td>0</td>\n      <td>-</td>\n    </tr>\n    <tr>\n      <th>685</th>\n      <td>b</td>\n      <td>21.08</td>\n      <td>10.085</td>\n      <td>y</td>\n      <td>p</td>\n      <td>e</td>\n      <td>h</td>\n      <td>1.250</td>\n      <td>f</td>\n      <td>f</td>\n      <td>0</td>\n      <td>f</td>\n      <td>g</td>\n      <td>00260</td>\n      <td>0</td>\n      <td>-</td>\n    </tr>\n    <tr>\n      <th>686</th>\n      <td>a</td>\n      <td>22.67</td>\n      <td>0.750</td>\n      <td>u</td>\n      <td>g</td>\n      <td>c</td>\n      <td>v</td>\n      <td>2.000</td>\n      <td>f</td>\n      <td>t</td>\n      <td>2</td>\n      <td>t</td>\n      <td>g</td>\n      <td>00200</td>\n      <td>394</td>\n      <td>-</td>\n    </tr>\n    <tr>\n      <th>687</th>\n      <td>a</td>\n      <td>25.25</td>\n      <td>13.500</td>\n      <td>y</td>\n      <td>p</td>\n      <td>ff</td>\n      <td>ff</td>\n      <td>2.000</td>\n      <td>f</td>\n      <td>t</td>\n      <td>1</td>\n      <td>t</td>\n      <td>g</td>\n      <td>00200</td>\n      <td>1</td>\n      <td>-</td>\n    </tr>\n    <tr>\n      <th>688</th>\n      <td>b</td>\n      <td>17.92</td>\n      <td>0.205</td>\n      <td>u</td>\n      <td>g</td>\n      <td>aa</td>\n      <td>v</td>\n      <td>0.040</td>\n      <td>f</td>\n      <td>f</td>\n      <td>0</td>\n      <td>f</td>\n      <td>g</td>\n      <td>00280</td>\n      <td>750</td>\n      <td>-</td>\n    </tr>\n    <tr>\n      <th>689</th>\n      <td>b</td>\n      <td>35.00</td>\n      <td>3.375</td>\n      <td>u</td>\n      <td>g</td>\n      <td>c</td>\n      <td>h</td>\n      <td>8.290</td>\n      <td>f</td>\n      <td>f</td>\n      <td>0</td>\n      <td>t</td>\n      <td>g</td>\n      <td>00000</td>\n      <td>0</td>\n      <td>-</td>\n    </tr>\n  </tbody>\n</table>\n</div>"
     },
     "metadata": {},
     "execution_count": 10
    }
   ],
   "source": [
    "cc_apps_copy.tail(10)"
   ]
  },
  {
   "cell_type": "code",
   "execution_count": 11,
   "metadata": {},
   "outputs": [
    {
     "output_type": "stream",
     "name": "stdout",
     "text": [
      "0\nToatal Nan: 67\nNaN by column:\n\n0     0\n1     0\n2     0\n3     0\n4     0\n5     0\n6     0\n7     0\n8     0\n9     0\n10    0\n11    0\n12    0\n13    0\n14    0\n15    0\ndtype: int64\n"
     ]
    },
    {
     "output_type": "execute_result",
     "data": {
      "text/plain": [
       "    gender    age    debt married bankCustomer educationalLevel ethinicy  \\\n",
       "670      b  47.17   5.835       u            g                w        v   \n",
       "671      b  25.83  12.835       u            g               cc        v   \n",
       "672      a  50.25   0.835       u            g               aa        v   \n",
       "673    NaN  29.50   2.000       y            p                e        h   \n",
       "674      a  37.33   2.500       u            g                i        h   \n",
       "675      a  41.58   1.040       u            g               aa        v   \n",
       "676      a  30.58  10.665       u            g                q        h   \n",
       "677      b  19.42   7.250       u            g                m        v   \n",
       "678      a  17.92  10.210       u            g               ff       ff   \n",
       "679      a  20.08   1.250       u            g                c        v   \n",
       "680      b  19.50   0.290       u            g                k        v   \n",
       "681      b  27.83   1.000       y            p                d        h   \n",
       "682      b  17.08   3.290       u            g                i        v   \n",
       "683      b  36.42   0.750       y            p                d        v   \n",
       "684      b  40.58   3.290       u            g                m        v   \n",
       "685      b  21.08  10.085       y            p                e        h   \n",
       "686      a  22.67   0.750       u            g                c        v   \n",
       "687      a  25.25  13.500       y            p               ff       ff   \n",
       "688      b  17.92   0.205       u            g               aa        v   \n",
       "689      b  35.00   3.375       u            g                c        h   \n",
       "\n",
       "     yearsEmployed priorDefault employed  creditScore driversLicense citizen  \\\n",
       "670          5.500            f        f            0              f       g   \n",
       "671          0.500            f        f            0              f       g   \n",
       "672          0.500            f        f            0              t       g   \n",
       "673          2.000            f        f            0              f       g   \n",
       "674          0.210            f        f            0              f       g   \n",
       "675          0.665            f        f            0              f       g   \n",
       "676          0.085            f        t           12              t       g   \n",
       "677          0.040            f        t            1              f       g   \n",
       "678          0.000            f        f            0              f       g   \n",
       "679          0.000            f        f            0              f       g   \n",
       "680          0.290            f        f            0              f       g   \n",
       "681          3.000            f        f            0              f       g   \n",
       "682          0.335            f        f            0              t       g   \n",
       "683          0.585            f        f            0              f       g   \n",
       "684          3.500            f        f            0              t       s   \n",
       "685          1.250            f        f            0              f       g   \n",
       "686          2.000            f        t            2              t       g   \n",
       "687          2.000            f        t            1              t       g   \n",
       "688          0.040            f        f            0              f       g   \n",
       "689          8.290            f        f            0              t       g   \n",
       "\n",
       "    zipCode  income approved  \n",
       "670   00465     150        -  \n",
       "671   00000       2        -  \n",
       "672   00240     117        -  \n",
       "673   00256      17        -  \n",
       "674   00260     246        -  \n",
       "675   00240     237        -  \n",
       "676   00129       3        -  \n",
       "677   00100       1        -  \n",
       "678   00000      50        -  \n",
       "679   00000       0        -  \n",
       "680   00280     364        -  \n",
       "681   00176     537        -  \n",
       "682   00140       2        -  \n",
       "683   00240       3        -  \n",
       "684   00400       0        -  \n",
       "685   00260       0        -  \n",
       "686   00200     394        -  \n",
       "687   00200       1        -  \n",
       "688   00280     750        -  \n",
       "689   00000       0        -  "
      ],
      "text/html": "<div>\n<style scoped>\n    .dataframe tbody tr th:only-of-type {\n        vertical-align: middle;\n    }\n\n    .dataframe tbody tr th {\n        vertical-align: top;\n    }\n\n    .dataframe thead th {\n        text-align: right;\n    }\n</style>\n<table border=\"1\" class=\"dataframe\">\n  <thead>\n    <tr style=\"text-align: right;\">\n      <th></th>\n      <th>gender</th>\n      <th>age</th>\n      <th>debt</th>\n      <th>married</th>\n      <th>bankCustomer</th>\n      <th>educationalLevel</th>\n      <th>ethinicy</th>\n      <th>yearsEmployed</th>\n      <th>priorDefault</th>\n      <th>employed</th>\n      <th>creditScore</th>\n      <th>driversLicense</th>\n      <th>citizen</th>\n      <th>zipCode</th>\n      <th>income</th>\n      <th>approved</th>\n    </tr>\n  </thead>\n  <tbody>\n    <tr>\n      <th>670</th>\n      <td>b</td>\n      <td>47.17</td>\n      <td>5.835</td>\n      <td>u</td>\n      <td>g</td>\n      <td>w</td>\n      <td>v</td>\n      <td>5.500</td>\n      <td>f</td>\n      <td>f</td>\n      <td>0</td>\n      <td>f</td>\n      <td>g</td>\n      <td>00465</td>\n      <td>150</td>\n      <td>-</td>\n    </tr>\n    <tr>\n      <th>671</th>\n      <td>b</td>\n      <td>25.83</td>\n      <td>12.835</td>\n      <td>u</td>\n      <td>g</td>\n      <td>cc</td>\n      <td>v</td>\n      <td>0.500</td>\n      <td>f</td>\n      <td>f</td>\n      <td>0</td>\n      <td>f</td>\n      <td>g</td>\n      <td>00000</td>\n      <td>2</td>\n      <td>-</td>\n    </tr>\n    <tr>\n      <th>672</th>\n      <td>a</td>\n      <td>50.25</td>\n      <td>0.835</td>\n      <td>u</td>\n      <td>g</td>\n      <td>aa</td>\n      <td>v</td>\n      <td>0.500</td>\n      <td>f</td>\n      <td>f</td>\n      <td>0</td>\n      <td>t</td>\n      <td>g</td>\n      <td>00240</td>\n      <td>117</td>\n      <td>-</td>\n    </tr>\n    <tr>\n      <th>673</th>\n      <td>NaN</td>\n      <td>29.50</td>\n      <td>2.000</td>\n      <td>y</td>\n      <td>p</td>\n      <td>e</td>\n      <td>h</td>\n      <td>2.000</td>\n      <td>f</td>\n      <td>f</td>\n      <td>0</td>\n      <td>f</td>\n      <td>g</td>\n      <td>00256</td>\n      <td>17</td>\n      <td>-</td>\n    </tr>\n    <tr>\n      <th>674</th>\n      <td>a</td>\n      <td>37.33</td>\n      <td>2.500</td>\n      <td>u</td>\n      <td>g</td>\n      <td>i</td>\n      <td>h</td>\n      <td>0.210</td>\n      <td>f</td>\n      <td>f</td>\n      <td>0</td>\n      <td>f</td>\n      <td>g</td>\n      <td>00260</td>\n      <td>246</td>\n      <td>-</td>\n    </tr>\n    <tr>\n      <th>675</th>\n      <td>a</td>\n      <td>41.58</td>\n      <td>1.040</td>\n      <td>u</td>\n      <td>g</td>\n      <td>aa</td>\n      <td>v</td>\n      <td>0.665</td>\n      <td>f</td>\n      <td>f</td>\n      <td>0</td>\n      <td>f</td>\n      <td>g</td>\n      <td>00240</td>\n      <td>237</td>\n      <td>-</td>\n    </tr>\n    <tr>\n      <th>676</th>\n      <td>a</td>\n      <td>30.58</td>\n      <td>10.665</td>\n      <td>u</td>\n      <td>g</td>\n      <td>q</td>\n      <td>h</td>\n      <td>0.085</td>\n      <td>f</td>\n      <td>t</td>\n      <td>12</td>\n      <td>t</td>\n      <td>g</td>\n      <td>00129</td>\n      <td>3</td>\n      <td>-</td>\n    </tr>\n    <tr>\n      <th>677</th>\n      <td>b</td>\n      <td>19.42</td>\n      <td>7.250</td>\n      <td>u</td>\n      <td>g</td>\n      <td>m</td>\n      <td>v</td>\n      <td>0.040</td>\n      <td>f</td>\n      <td>t</td>\n      <td>1</td>\n      <td>f</td>\n      <td>g</td>\n      <td>00100</td>\n      <td>1</td>\n      <td>-</td>\n    </tr>\n    <tr>\n      <th>678</th>\n      <td>a</td>\n      <td>17.92</td>\n      <td>10.210</td>\n      <td>u</td>\n      <td>g</td>\n      <td>ff</td>\n      <td>ff</td>\n      <td>0.000</td>\n      <td>f</td>\n      <td>f</td>\n      <td>0</td>\n      <td>f</td>\n      <td>g</td>\n      <td>00000</td>\n      <td>50</td>\n      <td>-</td>\n    </tr>\n    <tr>\n      <th>679</th>\n      <td>a</td>\n      <td>20.08</td>\n      <td>1.250</td>\n      <td>u</td>\n      <td>g</td>\n      <td>c</td>\n      <td>v</td>\n      <td>0.000</td>\n      <td>f</td>\n      <td>f</td>\n      <td>0</td>\n      <td>f</td>\n      <td>g</td>\n      <td>00000</td>\n      <td>0</td>\n      <td>-</td>\n    </tr>\n    <tr>\n      <th>680</th>\n      <td>b</td>\n      <td>19.50</td>\n      <td>0.290</td>\n      <td>u</td>\n      <td>g</td>\n      <td>k</td>\n      <td>v</td>\n      <td>0.290</td>\n      <td>f</td>\n      <td>f</td>\n      <td>0</td>\n      <td>f</td>\n      <td>g</td>\n      <td>00280</td>\n      <td>364</td>\n      <td>-</td>\n    </tr>\n    <tr>\n      <th>681</th>\n      <td>b</td>\n      <td>27.83</td>\n      <td>1.000</td>\n      <td>y</td>\n      <td>p</td>\n      <td>d</td>\n      <td>h</td>\n      <td>3.000</td>\n      <td>f</td>\n      <td>f</td>\n      <td>0</td>\n      <td>f</td>\n      <td>g</td>\n      <td>00176</td>\n      <td>537</td>\n      <td>-</td>\n    </tr>\n    <tr>\n      <th>682</th>\n      <td>b</td>\n      <td>17.08</td>\n      <td>3.290</td>\n      <td>u</td>\n      <td>g</td>\n      <td>i</td>\n      <td>v</td>\n      <td>0.335</td>\n      <td>f</td>\n      <td>f</td>\n      <td>0</td>\n      <td>t</td>\n      <td>g</td>\n      <td>00140</td>\n      <td>2</td>\n      <td>-</td>\n    </tr>\n    <tr>\n      <th>683</th>\n      <td>b</td>\n      <td>36.42</td>\n      <td>0.750</td>\n      <td>y</td>\n      <td>p</td>\n      <td>d</td>\n      <td>v</td>\n      <td>0.585</td>\n      <td>f</td>\n      <td>f</td>\n      <td>0</td>\n      <td>f</td>\n      <td>g</td>\n      <td>00240</td>\n      <td>3</td>\n      <td>-</td>\n    </tr>\n    <tr>\n      <th>684</th>\n      <td>b</td>\n      <td>40.58</td>\n      <td>3.290</td>\n      <td>u</td>\n      <td>g</td>\n      <td>m</td>\n      <td>v</td>\n      <td>3.500</td>\n      <td>f</td>\n      <td>f</td>\n      <td>0</td>\n      <td>t</td>\n      <td>s</td>\n      <td>00400</td>\n      <td>0</td>\n      <td>-</td>\n    </tr>\n    <tr>\n      <th>685</th>\n      <td>b</td>\n      <td>21.08</td>\n      <td>10.085</td>\n      <td>y</td>\n      <td>p</td>\n      <td>e</td>\n      <td>h</td>\n      <td>1.250</td>\n      <td>f</td>\n      <td>f</td>\n      <td>0</td>\n      <td>f</td>\n      <td>g</td>\n      <td>00260</td>\n      <td>0</td>\n      <td>-</td>\n    </tr>\n    <tr>\n      <th>686</th>\n      <td>a</td>\n      <td>22.67</td>\n      <td>0.750</td>\n      <td>u</td>\n      <td>g</td>\n      <td>c</td>\n      <td>v</td>\n      <td>2.000</td>\n      <td>f</td>\n      <td>t</td>\n      <td>2</td>\n      <td>t</td>\n      <td>g</td>\n      <td>00200</td>\n      <td>394</td>\n      <td>-</td>\n    </tr>\n    <tr>\n      <th>687</th>\n      <td>a</td>\n      <td>25.25</td>\n      <td>13.500</td>\n      <td>y</td>\n      <td>p</td>\n      <td>ff</td>\n      <td>ff</td>\n      <td>2.000</td>\n      <td>f</td>\n      <td>t</td>\n      <td>1</td>\n      <td>t</td>\n      <td>g</td>\n      <td>00200</td>\n      <td>1</td>\n      <td>-</td>\n    </tr>\n    <tr>\n      <th>688</th>\n      <td>b</td>\n      <td>17.92</td>\n      <td>0.205</td>\n      <td>u</td>\n      <td>g</td>\n      <td>aa</td>\n      <td>v</td>\n      <td>0.040</td>\n      <td>f</td>\n      <td>f</td>\n      <td>0</td>\n      <td>f</td>\n      <td>g</td>\n      <td>00280</td>\n      <td>750</td>\n      <td>-</td>\n    </tr>\n    <tr>\n      <th>689</th>\n      <td>b</td>\n      <td>35.00</td>\n      <td>3.375</td>\n      <td>u</td>\n      <td>g</td>\n      <td>c</td>\n      <td>h</td>\n      <td>8.290</td>\n      <td>f</td>\n      <td>f</td>\n      <td>0</td>\n      <td>t</td>\n      <td>g</td>\n      <td>00000</td>\n      <td>0</td>\n      <td>-</td>\n    </tr>\n  </tbody>\n</table>\n</div>"
     },
     "metadata": {},
     "execution_count": 11
    }
   ],
   "source": [
    "import numpy as np\n",
    "\n",
    "\n",
    "print(cc_apps_copy.isnull().values.sum())\n",
    "\n",
    "# replace ? with NaN\n",
    "cc_apps_copy = cc_apps_copy.replace('?', np.nan)\n",
    "\n",
    "#inspect the missing values again\n",
    "print('Toatal Nan: ' + str(cc_apps_copy.isnull().values.sum()))\n",
    "print('NaN by column:' '\\n')  \n",
    "print(cc_apps.isnull().sum())\n",
    "cc_apps_copy.tail(20)"
   ]
  },
  {
   "source": [
    "#### Handling missing values for numeric columns.\n",
    "\n",
    "It is important to handle missing values before we apply any models. Dropping them may lead to loss of information and we don't want that. One common way to handle missing values is to input the mean values - mean imputation"
   ],
   "cell_type": "markdown",
   "metadata": {}
  },
  {
   "cell_type": "code",
   "execution_count": 12,
   "metadata": {},
   "outputs": [
    {
     "output_type": "stream",
     "name": "stdout",
     "text": [
      "Total NaN: 0\n"
     ]
    },
    {
     "output_type": "execute_result",
     "data": {
      "text/plain": [
       "0     0\n",
       "1     0\n",
       "2     0\n",
       "3     0\n",
       "4     0\n",
       "5     0\n",
       "6     0\n",
       "7     0\n",
       "8     0\n",
       "9     0\n",
       "10    0\n",
       "11    0\n",
       "12    0\n",
       "13    0\n",
       "14    0\n",
       "15    0\n",
       "dtype: int64"
      ]
     },
     "metadata": {},
     "execution_count": 12
    }
   ],
   "source": [
    "cc_apps_copy.fillna(cc_apps_copy.mean(), inplace=True)\n",
    "\n",
    "# Count the number of NaNs in the dataset to verify\n",
    "print('Total NaN: ' + str(cc_apps.isnull().values.sum()))\n",
    "cc_apps.isnull().sum()"
   ]
  },
  {
   "source": [
    "#### Handling missing values for non-numeric columns.\n",
    "\n",
    "We are going to impute these missing values with the most frequent values as present in the respective columns. This is good practice when it comes to imputing missing values for categorical data in general."
   ],
   "cell_type": "markdown",
   "metadata": {}
  },
  {
   "source": [
    "for col in cc_apps_copy:\n",
    "    # check if the column type is 'object\n",
    "    if cc_apps_copy[col].dtypes == 'object':\n",
    "        # impute the mode value\n",
    "        cc_apps_copy = cc_apps_copy.fillna(cc_apps_copy[col].value_counts().index[0])\n",
    "\n",
    "# Count the number of NaNs in the dataset and print the counts to verify\n",
    "print('Total missing values:' + str(cc_apps_copy.isnull().values.sum()))\n",
    "print('Missing values in each column:')\n",
    "cc_apps_copy.isnull().sum()"
   ],
   "cell_type": "code",
   "metadata": {},
   "execution_count": 13,
   "outputs": [
    {
     "output_type": "stream",
     "name": "stdout",
     "text": [
      "Total missing values:0\nMissing values in each column:\n"
     ]
    },
    {
     "output_type": "execute_result",
     "data": {
      "text/plain": [
       "gender              0\n",
       "age                 0\n",
       "debt                0\n",
       "married             0\n",
       "bankCustomer        0\n",
       "educationalLevel    0\n",
       "ethinicy            0\n",
       "yearsEmployed       0\n",
       "priorDefault        0\n",
       "employed            0\n",
       "creditScore         0\n",
       "driversLicense      0\n",
       "citizen             0\n",
       "zipCode             0\n",
       "income              0\n",
       "approved            0\n",
       "dtype: int64"
      ]
     },
     "metadata": {},
     "execution_count": 13
    }
   ]
  },
  {
   "source": [
    "#### 3. Preprocessing the data \n",
    "Before we proceed to the ml model, we will need to do the following;\n",
    "-Convert the non-numeric data into numeric.\n",
    "-Split the data into train and test sets.\n",
    "-Scale the feature values to a uniform range.\n",
    "\n"
   ],
   "cell_type": "markdown",
   "metadata": {}
  },
  {
   "cell_type": "code",
   "execution_count": 14,
   "metadata": {},
   "outputs": [
    {
     "output_type": "stream",
     "name": "stdout",
     "text": [
      "<class 'pandas.core.frame.DataFrame'>\nRangeIndex: 690 entries, 0 to 689\nData columns (total 16 columns):\ngender              690 non-null int32\nage                 690 non-null int32\ndebt                690 non-null float64\nmarried             690 non-null int32\nbankCustomer        690 non-null int32\neducationalLevel    690 non-null int32\nethinicy            690 non-null int32\nyearsEmployed       690 non-null float64\npriorDefault        690 non-null int32\nemployed            690 non-null int32\ncreditScore         690 non-null int64\ndriversLicense      690 non-null int32\ncitizen             690 non-null int32\nzipCode             690 non-null int32\nincome              690 non-null int64\napproved            690 non-null int32\ndtypes: float64(2), int32(12), int64(2)\nmemory usage: 54.0 KB\n"
     ]
    }
   ],
   "source": [
    "from sklearn.preprocessing import LabelEncoder\n",
    "\n",
    "# initialize LabelEncoder\n",
    "label = LabelEncoder()\n",
    "\n",
    "for col in cc_apps_copy:\n",
    "    if cc_apps_copy[col].dtypes == 'object':\n",
    "            # Use LabelEncoder to do the numeric transformation\n",
    "        label.fit(cc_apps_copy[col])\n",
    "        cc_apps_copy[col] = label.transform(cc_apps_copy[col])\n",
    "\n",
    "cc_apps_copy.info()"
   ]
  },
  {
   "source": [
    "### 4. Preprocessing 2 - Spliting the dataset into train and test datasets\n",
    "In ML, it is best to split the dataset into two, this helps us used different datasets to train and test the model. The model should be tested on a completely different dataset from the one used to train the model.\n",
    "\n",
    "Before we split the dataset, we ought to do some feature selection. In this case we will simply drop the \"driverLicense\" and \"zipCode\" columns as they don't affect the credit card decision."
   ],
   "cell_type": "markdown",
   "metadata": {}
  },
  {
   "cell_type": "code",
   "execution_count": 16,
   "metadata": {},
   "outputs": [
    {
     "output_type": "execute_result",
     "data": {
      "text/plain": [
       "   gender  age   debt  married  bankCustomer  educationalLevel  ethinicy  \\\n",
       "0       1  156  0.000        2             1                13         8   \n",
       "1       0  328  4.460        2             1                11         4   \n",
       "2       0   89  0.500        2             1                11         4   \n",
       "3       1  125  1.540        2             1                13         8   \n",
       "4       1   43  5.625        2             1                13         8   \n",
       "\n",
       "   yearsEmployed  priorDefault  employed  creditScore  citizen  income  \\\n",
       "0           1.25             1         1            1        0       0   \n",
       "1           3.04             1         1            6        0     560   \n",
       "2           1.50             1         0            0        0     824   \n",
       "3           3.75             1         1            5        0       3   \n",
       "4           1.71             1         0            0        2       0   \n",
       "\n",
       "   approved  \n",
       "0         0  \n",
       "1         0  \n",
       "2         0  \n",
       "3         0  \n",
       "4         0  "
      ],
      "text/html": "<div>\n<style scoped>\n    .dataframe tbody tr th:only-of-type {\n        vertical-align: middle;\n    }\n\n    .dataframe tbody tr th {\n        vertical-align: top;\n    }\n\n    .dataframe thead th {\n        text-align: right;\n    }\n</style>\n<table border=\"1\" class=\"dataframe\">\n  <thead>\n    <tr style=\"text-align: right;\">\n      <th></th>\n      <th>gender</th>\n      <th>age</th>\n      <th>debt</th>\n      <th>married</th>\n      <th>bankCustomer</th>\n      <th>educationalLevel</th>\n      <th>ethinicy</th>\n      <th>yearsEmployed</th>\n      <th>priorDefault</th>\n      <th>employed</th>\n      <th>creditScore</th>\n      <th>citizen</th>\n      <th>income</th>\n      <th>approved</th>\n    </tr>\n  </thead>\n  <tbody>\n    <tr>\n      <th>0</th>\n      <td>1</td>\n      <td>156</td>\n      <td>0.000</td>\n      <td>2</td>\n      <td>1</td>\n      <td>13</td>\n      <td>8</td>\n      <td>1.25</td>\n      <td>1</td>\n      <td>1</td>\n      <td>1</td>\n      <td>0</td>\n      <td>0</td>\n      <td>0</td>\n    </tr>\n    <tr>\n      <th>1</th>\n      <td>0</td>\n      <td>328</td>\n      <td>4.460</td>\n      <td>2</td>\n      <td>1</td>\n      <td>11</td>\n      <td>4</td>\n      <td>3.04</td>\n      <td>1</td>\n      <td>1</td>\n      <td>6</td>\n      <td>0</td>\n      <td>560</td>\n      <td>0</td>\n    </tr>\n    <tr>\n      <th>2</th>\n      <td>0</td>\n      <td>89</td>\n      <td>0.500</td>\n      <td>2</td>\n      <td>1</td>\n      <td>11</td>\n      <td>4</td>\n      <td>1.50</td>\n      <td>1</td>\n      <td>0</td>\n      <td>0</td>\n      <td>0</td>\n      <td>824</td>\n      <td>0</td>\n    </tr>\n    <tr>\n      <th>3</th>\n      <td>1</td>\n      <td>125</td>\n      <td>1.540</td>\n      <td>2</td>\n      <td>1</td>\n      <td>13</td>\n      <td>8</td>\n      <td>3.75</td>\n      <td>1</td>\n      <td>1</td>\n      <td>5</td>\n      <td>0</td>\n      <td>3</td>\n      <td>0</td>\n    </tr>\n    <tr>\n      <th>4</th>\n      <td>1</td>\n      <td>43</td>\n      <td>5.625</td>\n      <td>2</td>\n      <td>1</td>\n      <td>13</td>\n      <td>8</td>\n      <td>1.71</td>\n      <td>1</td>\n      <td>0</td>\n      <td>0</td>\n      <td>2</td>\n      <td>0</td>\n      <td>0</td>\n    </tr>\n  </tbody>\n</table>\n</div>"
     },
     "metadata": {},
     "execution_count": 16
    }
   ],
   "source": [
    "# import train split\n",
    "from sklearn.model_selection import train_test_split\n",
    "\n",
    "# drop unwanted columns\n",
    "cc_apps_copy = cc_apps_copy.drop(['driversLicense', 'zipCode'], axis=1)\n",
    "cc_apps_copy.head(5)"
   ]
  },
  {
   "cell_type": "code",
   "execution_count": 21,
   "metadata": {},
   "outputs": [],
   "source": [
    "# convert into a numpy array\n",
    "cc_apps_np = cc_apps_copy.values\n",
    "\n",
    "# Segregating features and the labels into seperate variables\n",
    "X, y = cc_apps_np[:, 0:12], cc_apps_np[:, 13]"
   ]
  },
  {
   "cell_type": "code",
   "execution_count": 23,
   "metadata": {},
   "outputs": [],
   "source": [
    "# split into train and test set\n",
    "\n",
    "X_train, X_test, y_train, y_test = train_test_split(X, y, test_size=0.33, random_state=42)"
   ]
  },
  {
   "source": [
    "### 5. Preprocessing - Scaling the dataset\n",
    "The data is now split into two separate sets - train and test sets respectively. Thefinal preprocessing step of scaling must be done before we can fit a machine learning model to the data.\n",
    "\n",
    "What does scaled data mean? Let's use CreditScore as an example. The credit score of a person is their creditworthiness based on their credit history. The higher this number, the more financially trustworthy a person is considered to be. So, a CreditScore of 1 is the highest since we're rescaling all the values to the range of 0-1."
   ],
   "cell_type": "markdown",
   "metadata": {}
  },
  {
   "cell_type": "code",
   "execution_count": 24,
   "metadata": {},
   "outputs": [],
   "source": [
    "# import minmaxscaler\n",
    "from sklearn.preprocessing import MinMaxScaler\n",
    "\n",
    "# Instantiate MinMaxScaler and use that to scale X_train and X_test\n",
    "scaler = MinMaxScaler(feature_range=(0,1))\n",
    "rescaledX_train = scaler.fit_transform(X_train)\n",
    "rescaledX_test = scaler.fit_transform(X_test)"
   ]
  },
  {
   "source": [
    "Predicting if a credit card application will be approved or not is a classification task. \n",
    "\n",
    "According to UCI, the dataset contains more instances that correspond to \"Denied\" status than instances corresponding to \"Approved\" status. Specifically, out of 690 instances, there are 383 (55.5%) applications that got denied and 307 (44.5%) applications that got approved.\n",
    "\n",
    "This gives us a benchmark. A good machine learning model should be able to accurately predict the status of the applications with respect to these statistics.\n",
    "\n",
    "Starting our machine learning modeling with a Logistic Regression model (a generalized linear model)"
   ],
   "cell_type": "markdown",
   "metadata": {}
  },
  {
   "cell_type": "code",
   "execution_count": 25,
   "metadata": {},
   "outputs": [
    {
     "output_type": "execute_result",
     "data": {
      "text/plain": [
       "LogisticRegression(C=1.0, class_weight=None, dual=False, fit_intercept=True,\n",
       "                   intercept_scaling=1, l1_ratio=None, max_iter=100,\n",
       "                   multi_class='warn', n_jobs=None, penalty='l2',\n",
       "                   random_state=None, solver='warn', tol=0.0001, verbose=0,\n",
       "                   warm_start=False)"
      ]
     },
     "metadata": {},
     "execution_count": 25
    }
   ],
   "source": [
    "# import logistic regre\n",
    "from sklearn.linear_model import LogisticRegression\n",
    "\n",
    "# instantiate a LogisticRegression classifier with default params \n",
    "logreg = LogisticRegression()\n",
    "\n",
    "#fit logreg to the dataset\n",
    "logreg.fit(rescaledX_train, y_train)"
   ]
  },
  {
   "source": [
    "### 6. Making predictions and evaluating performance\n",
    "\n",
    "But how well does the model perform?\n",
    "\n",
    "We will now evaluate our model on the test set with respect to classification accuracy. But we will also take a look the model's confusion matrix. \n",
    "\n",
    "In the case of predicting credit card applications, it is equally important to see if our machine learning model is able to predict the approval status of the applications as denied that originally got denied. If our model is not performing well in this aspect, then it might end up approving the application that shouldn't have been approved. The confusion matrix helps us to view our model's performance from these aspects. "
   ],
   "cell_type": "markdown",
   "metadata": {}
  },
  {
   "cell_type": "code",
   "execution_count": 26,
   "metadata": {},
   "outputs": [
    {
     "output_type": "stream",
     "name": "stdout",
     "text": [
      "Accuracy of logistic regression classifier:  0.8377192982456141\n"
     ]
    }
   ],
   "source": [
    "# import confusion matrix\n",
    "\n",
    "from sklearn.metrics import confusion_matrix\n",
    "# Use logreg to predict instances from the test set and store it\n",
    "y_pred = logreg.predict(rescaledX_test)\n",
    "\n",
    "# Get the accuracy score of logreg model and print it\n",
    "logreg_acc = logreg.score(rescaledX_test, y_test)\n",
    "\n",
    "print(\"Accuracy of logistic regression classifier: \", logreg_acc)"
   ]
  },
  {
   "cell_type": "code",
   "execution_count": 27,
   "metadata": {},
   "outputs": [
    {
     "output_type": "stream",
     "name": "stdout",
     "text": [
      "Confusion matrix: \n  [[92 11]\n [26 99]]\n"
     ]
    }
   ],
   "source": [
    "# Print the confusion matrix of the logreg model\n",
    "logreg_conf = confusion_matrix(y_test, y_pred)\n",
    "print('Confusion matrix: \\n ', logreg_conf)\n"
   ]
  },
  {
   "source": [
    "The model was able to yield an accuracy score of almost 84%.\n",
    "\n",
    "For the confusion matrix, the first element of the of the first row of the confusion matrix denotes the true negatives meaning the number of negative instances (denied applications) predicted by the model correctly. And the last element of the second row of the confusion matrix denotes the true positives meaning the number of positive instances (approved applications) predicted by the model correctly.\n",
    "\n",
    "Let's see if we can do better. We can perform a grid search of the model parameters to improve the model's ability to predict credit card approvals.\n",
    "\n",
    "scikit-learn's implementation of logistic regression consists of different hyperparameters but we will grid search over the following two:\n",
    "\n",
    "    tol\n",
    "    max_iter\n"
   ],
   "cell_type": "markdown",
   "metadata": {}
  },
  {
   "cell_type": "code",
   "execution_count": 28,
   "metadata": {},
   "outputs": [
    {
     "output_type": "execute_result",
     "data": {
      "text/plain": [
       "{'tol': [0.01, 0.001, 0.0001], 'max_iter': [100, 150, 200]}"
      ]
     },
     "metadata": {},
     "execution_count": 28
    }
   ],
   "source": [
    "# Import GridSearchCV\n",
    "from sklearn.model_selection import GridSearchCV\n",
    "# Define the grid of values for tol and max_iter\n",
    "tol = [0.01, 0.001, 0.0001]\n",
    "max_iter = [100, 150, 200]\n",
    "\n",
    "# Create a dictionary where tol and max_iter are keys and the lists of their values are corresponding values\n",
    "param_grid = dict(tol= tol, max_iter= max_iter)\n",
    "\n",
    "param_grid"
   ]
  },
  {
   "source": [
    "### 7. Finding the best performing model\n",
    "\n",
    "The grid of hyperparameter values has been defined and converted into a single dictionary format which GridSearchCV() expects as one of its parameters. Now, we will begin the grid search to see which values perform best.\n",
    "\n",
    "We will instantiate GridSearchCV() with our earlier logreg model with all the data we have. Instead of passing train and test sets separately, we will supply X (scaled version) and y. We will also instruct GridSearchCV() to perform a cross-validation of five folds.\n",
    "\n",
    "We'll end the notebook by storing the best-achieved score and the respective best parameters.\n",
    "\n",
    "While building this credit card predictor, we tackled some of the most widely-known preprocessing steps such as scaling, label encoding, and missing value imputation. We finished with some machine learning to predict if a person's application for a credit card would get approved or not given some information about that person."
   ],
   "cell_type": "markdown",
   "metadata": {}
  },
  {
   "cell_type": "code",
   "execution_count": 34,
   "metadata": {},
   "outputs": [
    {
     "output_type": "stream",
     "name": "stdout",
     "text": [
      "Best: 0.852174 using {'max_iter': 100, 'tol': 0.01}\n"
     ]
    }
   ],
   "source": [
    "# Instantiate GridSearchCV with the required parameters\n",
    "\n",
    "grid_model = GridSearchCV(estimator=logreg, param_grid=param_grid, cv=5)\n",
    "\n",
    "# Use scaler to rescale X and assign it to rescaledX\n",
    "rescaledX = scaler.fit_transform(X)\n",
    "\n",
    "# Fit data to grid_model\n",
    "grid_result = grid_model.fit(rescaledX, y)\n",
    "\n",
    "# Summarize results\n",
    "best_score, best_params = grid_result.best_score_, grid_result.best_params_\n",
    "print(\"Best: %f using %s\" % (best_score, best_params))\n",
    "\n"
   ]
  },
  {
   "source": [
    "References\n",
    "\n",
    "https://developers.google.com/machine-learning/crash-course/classification/accuracy\n",
    "\n",
    "https://www.dataschool.io/simple-guide-to-confusion-matrix-terminology/\n",
    "\n",
    "https://machinelearningmastery.com/how-to-tune-algorithm-parameters-with-scikit-learn/\n",
    "\n",
    "https://scikit-learn.org/stable/modules/generated/sklearn.linear_model.LogisticRegression.html\n",
    "\n",
    "https://www.dataschool.io/machine-learning-with-scikit-learn/\n"
   ],
   "cell_type": "markdown",
   "metadata": {}
  }
 ]
}